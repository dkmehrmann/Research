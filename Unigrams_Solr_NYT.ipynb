{
 "cells": [
  {
   "cell_type": "code",
   "execution_count": 36,
   "metadata": {
    "collapsed": true
   },
   "outputs": [],
   "source": [
    "import json\n",
    "import requests\n",
    "import time"
   ]
  },
  {
   "cell_type": "markdown",
   "metadata": {},
   "source": [
    "## Collect all unigrams"
   ]
  },
  {
   "cell_type": "code",
   "execution_count": 5,
   "metadata": {
    "collapsed": false
   },
   "outputs": [],
   "source": [
    "unigrams=[]\n",
    "for i in range(6):\n",
    "    with open(\"/home/cline/NYT_SPEED/Unigrams/{0}.json\".format(i)) as f:\n",
    "        unis = json.load(f)\n",
    "    unigrams.extend(unis)"
   ]
  },
  {
   "cell_type": "code",
   "execution_count": 6,
   "metadata": {
    "collapsed": false
   },
   "outputs": [
    {
     "data": {
      "text/plain": [
       "53581"
      ]
     },
     "execution_count": 6,
     "metadata": {},
     "output_type": "execute_result"
    }
   ],
   "source": [
    "len(unigrams)"
   ]
  },
  {
   "cell_type": "markdown",
   "metadata": {},
   "source": [
    "There are 53581 articles worth of unigrams."
   ]
  },
  {
   "cell_type": "markdown",
   "metadata": {},
   "source": [
    "## Get the Solr Metadata"
   ]
  },
  {
   "cell_type": "code",
   "execution_count": 9,
   "metadata": {
    "collapsed": true
   },
   "outputs": [],
   "source": [
    "def get_solr_data(uni_id):\n",
    "    \n",
    "    ## uni id is in [0, 1, ..., 53580]\n",
    "\n",
    "    aid = unigrams[uni_id]['aid']\n",
    "    query = \"http://localhost:8983/solr/derived/select?q=aid%3A{0}&wt=json&indent=true\".format(aid)\n",
    "    r = requests.get(query)\n",
    "    \n",
    "    return(r)"
   ]
  },
  {
   "cell_type": "code",
   "execution_count": 10,
   "metadata": {
    "collapsed": false
   },
   "outputs": [],
   "source": [
    "r = get_solr_data(0)"
   ]
  },
  {
   "cell_type": "markdown",
   "metadata": {},
   "source": [
    "## Get the NYT Metadata\n",
    "\n",
    "But first, you have to go get an API key. There is no wait or cost."
   ]
  },
  {
   "cell_type": "code",
   "execution_count": 12,
   "metadata": {
    "collapsed": true
   },
   "outputs": [],
   "source": [
    "with open(\"NYT.key\") as key:\n",
    "    for line in key:\n",
    "        NYT_KEY = line"
   ]
  },
  {
   "cell_type": "code",
   "execution_count": 20,
   "metadata": {
    "collapsed": true
   },
   "outputs": [],
   "source": [
    "def get_NYT_data(r, NYT_KEY):\n",
    "    ttl = r.json()['response']['docs'][0]['title']\n",
    "    date = r.json()['response']['docs'][0]['publication_date'][:10]\n",
    "    nytq = 'http://api.nytimes.com/svc/search/v2/articlesearch.json?\\\n",
    "fq=headline:(\"{0}\") AND pub_date:{1}&api-key={2}'.format(ttl,date, NYT_KEY)\n",
    "    nyt = requests.get(nytq)\n",
    "    return(nyt)"
   ]
  },
  {
   "cell_type": "code",
   "execution_count": 51,
   "metadata": {
    "collapsed": false
   },
   "outputs": [],
   "source": [
    "nyt_meta = get_NYT_data(r, NYT_KEY)\n",
    "nyt_meta.json()"
   ]
  },
  {
   "cell_type": "code",
   "execution_count": 23,
   "metadata": {
    "collapsed": true
   },
   "outputs": [],
   "source": [
    "def get_all_metadata(uni_id, NYT_KEY):\n",
    "    solr_meta = get_solr_data(uni_id)\n",
    "    nyt_meta = get_NYT_data(solr_meta, NYT_KEY)\n",
    "    return(solr_meta, nyt_meta)\n",
    "    "
   ]
  },
  {
   "cell_type": "code",
   "execution_count": 50,
   "metadata": {
    "collapsed": false
   },
   "outputs": [
    {
     "name": "stdout",
     "output_type": "stream",
     "text": [
      "None None\n",
      "None None\n",
      "None None\n",
      "None None\n",
      "None None\n",
      "None None\n",
      "None None\n",
      "None None\n",
      "None None\n",
      "None None\n",
      "None None\n",
      "None None\n",
      "None None\n",
      "None None\n",
      "None None\n",
      "None None\n",
      "None None\n",
      "None None\n",
      "None None\n",
      "None None\n"
     ]
    }
   ],
   "source": [
    "for i in range(20):\n",
    "    s, n = get_all_metadata(i, NYT_KEY)\n",
    "    try:\n",
    "        print(n.json()['response']['docs'][0][\"news_desk\"], n.json()['response']['docs'][0][\"section_name\"])\n",
    "    except IndexError:\n",
    "        print(i) # print the uni_index if there's an issue\n",
    "    time.sleep(1)"
   ]
  },
  {
   "cell_type": "markdown",
   "metadata": {},
   "source": [
    "It looks like these articles don't have the section name or news desk metadata. They may be too old?"
   ]
  },
  {
   "cell_type": "code",
   "execution_count": null,
   "metadata": {
    "collapsed": true
   },
   "outputs": [],
   "source": []
  }
 ],
 "metadata": {
  "kernelspec": {
   "display_name": "Python 3",
   "language": "python",
   "name": "python3"
  },
  "language_info": {
   "codemirror_mode": {
    "name": "ipython",
    "version": 3
   },
   "file_extension": ".py",
   "mimetype": "text/x-python",
   "name": "python",
   "nbconvert_exporter": "python",
   "pygments_lexer": "ipython3",
   "version": "3.4.3"
  }
 },
 "nbformat": 4,
 "nbformat_minor": 0
}
