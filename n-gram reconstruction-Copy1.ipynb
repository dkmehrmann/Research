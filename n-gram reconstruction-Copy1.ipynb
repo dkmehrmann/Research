{
 "cells": [
  {
   "cell_type": "code",
   "execution_count": null,
   "metadata": {
    "collapsed": true
   },
   "outputs": [],
   "source": [
    "from pymongo import MongoClient\n",
    "from random import randint"
   ]
  },
  {
   "cell_type": "code",
   "execution_count": 1,
   "metadata": {
    "collapsed": false
   },
   "outputs": [
    {
     "data": {
      "text/plain": [
       "u'Despite claiming to have given adequate representation to Muslims, the Bharatiya Janata Party has fielded only two Muslim candidates out of the 153 declared so far.  The two candidates are Saba Zafar, the current representative from Amour constituency in Purnia district, and Abdul Rahman, who has been fielded from Kochadhaman in Kishanganj district. Rahman was the BJP\\u2019s sole Muslim candidate when the party was in alliance with the Janata Dal (United).  With the grand alliance \\u2014 comprising the Rashtriya Janata Dal, the Congress and the JD(U) \\u2014 hoping to capture the crucial Yadav-Muslim vote bank, the BJP has fielded the two candidates from Muslim-dominated areas.  At a recent meeting organised by the Muslim Bedari Muhim, an organisation floated by a prominent BJP Muslim face and former Bihar minister Jamshaid Ashraf, top party leaders, including Sushil Kumar Modi and Mangal Pandey, had declared that adequate representation would be given to Muslims in the allotment of seats.  The BJP minority cell had also recommended five names, including that of its president, to the central election committee of the party for consideration. None of the names appeared in the first three lists.  A top source of the BJP, who is closely associated with the selection process, confided to HT on Sunday that the three survey reports conducted by the party went against fielding of Muslim candidates fearing that they might lose. \\u201cThe reports suggested that as part of the strategy, the Muslim-dominated constituencies or such seats where the minorities have a significance presence should be allotted to the alliance partners,\\u201d the source said.  The reports also said that prominent Muslim faces should be encouraged to campaign for the NDA candidates and, if possible, inducted into the legislative council.'"
      ]
     },
     "execution_count": 1,
     "metadata": {},
     "output_type": "execute_result"
    }
   ],
   "source": [
    "client = MongoClient()\n",
    "db = client['event_scrape']\n",
    "collection = db['stories']\n",
    "\n",
    "recordCount = collection.count()\n",
    "rnd_number = randint(0,recordCount)\n",
    "sample_story = collection.find().limit(-1).skip(rnd_number).next()"
   ]
  },
  {
   "cell_type": "code",
   "execution_count": 2,
   "metadata": {
    "collapsed": false
   },
   "outputs": [
    {
     "data": {
      "text/plain": [
       "[['a', 'b'], ['b', 'c'], ['c', 'd']]"
      ]
     },
     "execution_count": 2,
     "metadata": {},
     "output_type": "execute_result"
    }
   ],
   "source": [
    "def ngrams(input, n):\n",
    "    input = input.split(' ')\n",
    "    output = []\n",
    "    for i in range(len(input)-n+1):\n",
    "        output.append(input[i:i+n])\n",
    "    return output"
   ]
  },
  {
   "cell_type": "code",
   "execution_count": 4,
   "metadata": {
    "collapsed": true
   },
   "outputs": [],
   "source": [
    "def find_eulerian_tour(graph):\n",
    "    tour = []\n",
    "\n",
    "    current_vertex = graph[0][0]\n",
    "    tour.append(current_vertex)\n",
    "\n",
    "    while len(graph) > 0:\n",
    "        #print(graph, current_vertex)\n",
    "        for edge in graph:\n",
    "            if current_vertex in edge:\n",
    "                if edge[0] == current_vertex:\n",
    "                    current_vertex = edge[1]\n",
    "                else:\n",
    "                    current_vertex = edge[0]\n",
    "\n",
    "                graph.remove(edge)\n",
    "                tour.append(current_vertex)\n",
    "                break\n",
    "        else:\n",
    "            # Edit to account for case no tour is possible\n",
    "            return False\n",
    "    return tour"
   ]
  },
  {
   "cell_type": "code",
   "execution_count": 11,
   "metadata": {
    "collapsed": false
   },
   "outputs": [
    {
     "name": "stdout",
     "output_type": "stream",
     "text": [
      "Despite claiming to have given adequate representation to Muslims, the Bharatiya Janata Party has fielded only two Muslim candidates out of the 153 declared so far.  The two candidates are Saba Zafar, the current representative from Amour constituency in Purnia district, and Abdul Rahman, who has been fielded from Kochadhaman in Kishanganj district. Rahman was the BJP’s sole Muslim candidate when the party was in alliance with the Janata Dal (United).  With the grand alliance — comprising the Rashtriya Janata Dal, the Congress and the JD(U) — hoping to capture the crucial Yadav-Muslim vote bank, the BJP has fielded the two candidates from Muslim-dominated areas.  At a recent meeting organised by the Muslim Bedari Muhim, an organisation floated by a prominent BJP Muslim face and former Bihar minister Jamshaid Ashraf, top party leaders, including Sushil Kumar Modi and Mangal Pandey, had declared that adequate representation would be given to Muslims in the allotment of seats.  The BJP minority cell had also recommended five names, including that of its president, to the central election committee of the party for consideration. None of the names appeared in the first three lists.  A top source of the BJP, who is closely associated with the selection process, confided to HT on Sunday that the three survey reports conducted by the party went against fielding of Muslim candidates fearing that they might lose. “The reports suggested that as part of the strategy, the Muslim-dominated constituencies or such seats where the minorities have a significance presence should be allotted to the alliance partners,” the source said.  The reports also said that prominent Muslim faces should be encouraged to campaign for the NDA candidates and, if possible, inducted into the legislative council.\n"
     ]
    }
   ],
   "source": [
    "graph = [tuple(l) for l in ngrams(sample_story['content'],2)]\n",
    "tour = find_eulerian_tour(graph)\n",
    "if tour:\n",
    "    print \" \".join(tour)"
   ]
  },
  {
   "cell_type": "code",
   "execution_count": 8,
   "metadata": {
    "collapsed": false
   },
   "outputs": [
    {
     "data": {
      "text/plain": [
       "u'Despite claiming to have given adequate representation to Muslims, the Bharatiya Janata Party has fielded only two Muslim candidates out of the 153 declared so far.  The two candidates are Saba Zafar, the current representative from Amour constituency in Purnia district, and Abdul Rahman, who has been fielded from Kochadhaman in Kishanganj district. Rahman was the BJP\\u2019s sole Muslim candidate when the party was in alliance with the Janata Dal (United).  With the grand alliance \\u2014 comprising the Rashtriya Janata Dal, the Congress and the JD(U) \\u2014 hoping to capture the crucial Yadav-Muslim vote bank, the BJP has fielded the two candidates from Muslim-dominated areas.  At a recent meeting organised by the Muslim Bedari Muhim, an organisation floated by a prominent BJP Muslim face and former Bihar minister Jamshaid Ashraf, top party leaders, including Sushil Kumar Modi and Mangal Pandey, had declared that adequate representation would be given to Muslims in the allotment of seats.  The BJP minority cell had also recommended five names, including that of its president, to the central election committee of the party for consideration. None of the names appeared in the first three lists.  A top source of the BJP, who is closely associated with the selection process, confided to HT on Sunday that the three survey reports conducted by the party went against fielding of Muslim candidates fearing that they might lose. \\u201cThe reports suggested that as part of the strategy, the Muslim-dominated constituencies or such seats where the minorities have a significance presence should be allotted to the alliance partners,\\u201d the source said.  The reports also said that prominent Muslim faces should be encouraged to campaign for the NDA candidates and, if possible, inducted into the legislative council.'"
      ]
     },
     "execution_count": 8,
     "metadata": {},
     "output_type": "execute_result"
    }
   ],
   "source": [
    "sample_story['content']"
   ]
  },
  {
   "cell_type": "code",
   "execution_count": null,
   "metadata": {
    "collapsed": true
   },
   "outputs": [],
   "source": []
  }
 ],
 "metadata": {
  "kernelspec": {
   "display_name": "Python 2",
   "language": "python",
   "name": "python2"
  },
  "language_info": {
   "codemirror_mode": {
    "name": "ipython",
    "version": 2
   },
   "file_extension": ".py",
   "mimetype": "text/x-python",
   "name": "python",
   "nbconvert_exporter": "python",
   "pygments_lexer": "ipython2",
   "version": "2.7.11"
  }
 },
 "nbformat": 4,
 "nbformat_minor": 0
}
