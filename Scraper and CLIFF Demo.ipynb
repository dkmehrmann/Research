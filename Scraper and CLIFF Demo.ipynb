{
 "cells": [
  {
   "cell_type": "code",
   "execution_count": 1,
   "metadata": {
    "collapsed": true
   },
   "outputs": [],
   "source": [
    "from pymongo import MongoClient"
   ]
  },
  {
   "cell_type": "code",
   "execution_count": 47,
   "metadata": {
    "collapsed": false
   },
   "outputs": [
    {
     "name": "stdout",
     "output_type": "stream",
     "text": [
      "('Existing collections:', [u'stories', u'system.indexes'])\n"
     ]
    }
   ],
   "source": [
    "client = MongoClient()\n",
    "db = client['event_scrape']\n",
    "print('Existing collections:', db.collection_names())"
   ]
  },
  {
   "cell_type": "code",
   "execution_count": 48,
   "metadata": {
    "collapsed": false
   },
   "outputs": [
    {
     "data": {
      "text/plain": [
       "5694"
      ]
     },
     "execution_count": 48,
     "metadata": {},
     "output_type": "execute_result"
    }
   ],
   "source": [
    "collection = db['stories']\n",
    "collection.count()"
   ]
  },
  {
   "cell_type": "code",
   "execution_count": 49,
   "metadata": {
    "collapsed": true
   },
   "outputs": [],
   "source": [
    "from random import randint"
   ]
  },
  {
   "cell_type": "code",
   "execution_count": 57,
   "metadata": {
    "collapsed": false
   },
   "outputs": [
    {
     "data": {
      "text/plain": [
       "{u'_id': ObjectId('56aaa522d914e34bf3747322'),\n",
       " u'content': u'Samsung SDI plans to invest more than 3 trillion won in its flagship electric car battery business over the next three years. Cho Nam-sung, CEO of Samsung SDI, said at the extraordinary shareholders meeting on January 25, \\u201cWe secured funds needed for the expansion of the electric car business through sales of our chemical business unit. We will develop our electric car battery unit into a global leading business through investment of up to 3 trillion won by 2020.\\u201d prefix = \"o\" ns = \"urn:schemas-microsoft-com:office:office\" /     Samsung SDI plans to place its focus on the electric car battery business which is expected to have a strong growth in the future. To realize its dream of becoming a global heavyweight in the electric car battery business, Samsung SDI plans to establish three bases worldwide, including Xi\\'an, Ulsan, and Europe.     Samsung SDI acquired an electric car battery pack business from an auto parts maker Magna last year. It also launched the mass-production in earnest by completing its electric car battery plant in Xi\\'an.     enews@hankyung.com  ',\n",
       " u'date': u'2016-01-27 08:20',\n",
       " u'date_added': datetime.datetime(2016, 1, 28, 23, 32, 50, 980000),\n",
       " u'language': u'english',\n",
       " u'source': u'skorea_hankung_econ',\n",
       " u'stanford': 0,\n",
       " u'title': u'Samsung SDI to Invest 3 Tril. Won in Electric Car Batteries',\n",
       " u'url': u'http://english.hankyung.com/news/apps/news.view?c1=&newscate=1&nkey=201601270820011'}"
      ]
     },
     "execution_count": 57,
     "metadata": {},
     "output_type": "execute_result"
    }
   ],
   "source": [
    "recordCount = collection.count()\n",
    "rnd_number = randint(0,recordCount)\n",
    "sample_story = collection.find().limit(-1).skip(rnd_number).next()\n",
    "sample_story"
   ]
  },
  {
   "cell_type": "code",
   "execution_count": 51,
   "metadata": {
    "collapsed": true
   },
   "outputs": [],
   "source": [
    "import requests\n",
    "import json"
   ]
  },
  {
   "cell_type": "code",
   "execution_count": 58,
   "metadata": {
    "collapsed": false
   },
   "outputs": [
    {
     "data": {
      "text/plain": [
       "{u'milliseconds': 179,\n",
       " u'results': {u'organizations': [{u'count': 5, u'name': u'Samsung SDI'},\n",
       "   {u'count': 1, u'name': u'Magna'}],\n",
       "  u'people': [{u'count': 1, u'name': u'Cho Nam-sung'}],\n",
       "  u'places': {u'focus': {u'cities': [{u'countryCode': u'KR',\n",
       "      u'countryGeoNameId': u'1835841',\n",
       "      u'featureClass': u'P',\n",
       "      u'featureCode': u'PPLA',\n",
       "      u'id': 1833747,\n",
       "      u'lat': 35.53722,\n",
       "      u'lon': 129.31667,\n",
       "      u'name': u'Ulsan',\n",
       "      u'population': 962865,\n",
       "      u'score': 1,\n",
       "      u'stateCode': u'21',\n",
       "      u'stateGeoNameId': u'1833742'},\n",
       "     {u'countryCode': u'CN',\n",
       "      u'countryGeoNameId': u'1814991',\n",
       "      u'featureClass': u'P',\n",
       "      u'featureCode': u'PPLA',\n",
       "      u'id': 1790630,\n",
       "      u'lat': 34.25833,\n",
       "      u'lon': 108.92861,\n",
       "      u'name': u'Xi\\u2019an',\n",
       "      u'population': 6501190,\n",
       "      u'score': 1,\n",
       "      u'stateCode': u'26',\n",
       "      u'stateGeoNameId': u'1796480'}],\n",
       "    u'countries': [{u'countryCode': u'KR',\n",
       "      u'countryGeoNameId': u'1835841',\n",
       "      u'featureClass': u'A',\n",
       "      u'featureCode': u'PCLI',\n",
       "      u'id': 1835841,\n",
       "      u'lat': 36.5,\n",
       "      u'lon': 127.75,\n",
       "      u'name': u'Republic of Korea',\n",
       "      u'population': 48422644,\n",
       "      u'score': 1,\n",
       "      u'stateCode': u'00',\n",
       "      u'stateGeoNameId': u''},\n",
       "     {u'countryCode': u'CN',\n",
       "      u'countryGeoNameId': u'1814991',\n",
       "      u'featureClass': u'A',\n",
       "      u'featureCode': u'PCLI',\n",
       "      u'id': 1814991,\n",
       "      u'lat': 35.0,\n",
       "      u'lon': 105.0,\n",
       "      u'name': u'People\\u2019s Republic of China',\n",
       "      u'population': 1330044000,\n",
       "      u'score': 1,\n",
       "      u'stateCode': u'00',\n",
       "      u'stateGeoNameId': u''}],\n",
       "    u'states': [{u'countryCode': u'CN',\n",
       "      u'countryGeoNameId': u'1814991',\n",
       "      u'featureClass': u'A',\n",
       "      u'featureCode': u'ADM1',\n",
       "      u'id': 1796480,\n",
       "      u'lat': 36.0,\n",
       "      u'lon': 109.0,\n",
       "      u'name': u'Shaanxi',\n",
       "      u'population': 37620000,\n",
       "      u'score': 1,\n",
       "      u'stateCode': u'26',\n",
       "      u'stateGeoNameId': u'1796480'},\n",
       "     {u'countryCode': u'KR',\n",
       "      u'countryGeoNameId': u'1835841',\n",
       "      u'featureClass': u'A',\n",
       "      u'featureCode': u'ADM1',\n",
       "      u'id': 1833742,\n",
       "      u'lat': 35.56667,\n",
       "      u'lon': 129.26667,\n",
       "      u'name': u'Ulsan',\n",
       "      u'population': 1163690,\n",
       "      u'score': 1,\n",
       "      u'stateCode': u'21',\n",
       "      u'stateGeoNameId': u'1833742'}]},\n",
       "   u'mentions': [{u'confidence': 1.0,\n",
       "     u'countryCode': u'',\n",
       "     u'countryGeoNameId': u'',\n",
       "     u'featureClass': u'L',\n",
       "     u'featureCode': u'CONT',\n",
       "     u'id': 6255148,\n",
       "     u'lat': 48.69096,\n",
       "     u'lon': 9.14062,\n",
       "     u'name': u'Europe',\n",
       "     u'population': 0,\n",
       "     u'source': {u'charIndex': 844, u'string': u'Europe'},\n",
       "     u'stateCode': u'',\n",
       "     u'stateGeoNameId': u''},\n",
       "    {u'confidence': 1.0,\n",
       "     u'countryCode': u'KR',\n",
       "     u'countryGeoNameId': u'1835841',\n",
       "     u'featureClass': u'P',\n",
       "     u'featureCode': u'PPLA',\n",
       "     u'id': 1833747,\n",
       "     u'lat': 35.53722,\n",
       "     u'lon': 129.31667,\n",
       "     u'name': u'Ulsan',\n",
       "     u'population': 962865,\n",
       "     u'source': {u'charIndex': 833, u'string': u'Ulsan'},\n",
       "     u'stateCode': u'21',\n",
       "     u'stateGeoNameId': u'1833742'},\n",
       "    {u'confidence': 1.0,\n",
       "     u'countryCode': u'CN',\n",
       "     u'countryGeoNameId': u'1814991',\n",
       "     u'featureClass': u'P',\n",
       "     u'featureCode': u'PPLA',\n",
       "     u'id': 1790630,\n",
       "     u'lat': 34.25833,\n",
       "     u'lon': 108.92861,\n",
       "     u'name': u'Xi\\u2019an',\n",
       "     u'population': 6501190,\n",
       "     u'source': {u'charIndex': 1053, u'string': u\"Xi'an\"},\n",
       "     u'stateCode': u'26',\n",
       "     u'stateGeoNameId': u'1796480'}]}},\n",
       " u'status': u'ok',\n",
       " u'version': u'2.1.1'}"
      ]
     },
     "execution_count": 58,
     "metadata": {},
     "output_type": "execute_result"
    }
   ],
   "source": [
    "payload = {\"q\":sample_story['content']}\n",
    "located = requests.get(\"http://localhost:8080/CLIFF-2.1.1/parse/text\", params=payload)\n",
    "t = located.json()\n",
    "t"
   ]
  },
  {
   "cell_type": "code",
   "execution_count": 61,
   "metadata": {
    "collapsed": false
   },
   "outputs": [
    {
     "data": {
      "text/plain": [
       "{u'cities': [{u'countryCode': u'KR',\n",
       "   u'countryGeoNameId': u'1835841',\n",
       "   u'featureClass': u'P',\n",
       "   u'featureCode': u'PPLA',\n",
       "   u'id': 1833747,\n",
       "   u'lat': 35.53722,\n",
       "   u'lon': 129.31667,\n",
       "   u'name': u'Ulsan',\n",
       "   u'population': 962865,\n",
       "   u'score': 1,\n",
       "   u'stateCode': u'21',\n",
       "   u'stateGeoNameId': u'1833742'},\n",
       "  {u'countryCode': u'CN',\n",
       "   u'countryGeoNameId': u'1814991',\n",
       "   u'featureClass': u'P',\n",
       "   u'featureCode': u'PPLA',\n",
       "   u'id': 1790630,\n",
       "   u'lat': 34.25833,\n",
       "   u'lon': 108.92861,\n",
       "   u'name': u'Xi\\u2019an',\n",
       "   u'population': 6501190,\n",
       "   u'score': 1,\n",
       "   u'stateCode': u'26',\n",
       "   u'stateGeoNameId': u'1796480'}],\n",
       " u'countries': [{u'countryCode': u'KR',\n",
       "   u'countryGeoNameId': u'1835841',\n",
       "   u'featureClass': u'A',\n",
       "   u'featureCode': u'PCLI',\n",
       "   u'id': 1835841,\n",
       "   u'lat': 36.5,\n",
       "   u'lon': 127.75,\n",
       "   u'name': u'Republic of Korea',\n",
       "   u'population': 48422644,\n",
       "   u'score': 1,\n",
       "   u'stateCode': u'00',\n",
       "   u'stateGeoNameId': u''},\n",
       "  {u'countryCode': u'CN',\n",
       "   u'countryGeoNameId': u'1814991',\n",
       "   u'featureClass': u'A',\n",
       "   u'featureCode': u'PCLI',\n",
       "   u'id': 1814991,\n",
       "   u'lat': 35.0,\n",
       "   u'lon': 105.0,\n",
       "   u'name': u'People\\u2019s Republic of China',\n",
       "   u'population': 1330044000,\n",
       "   u'score': 1,\n",
       "   u'stateCode': u'00',\n",
       "   u'stateGeoNameId': u''}],\n",
       " u'states': [{u'countryCode': u'CN',\n",
       "   u'countryGeoNameId': u'1814991',\n",
       "   u'featureClass': u'A',\n",
       "   u'featureCode': u'ADM1',\n",
       "   u'id': 1796480,\n",
       "   u'lat': 36.0,\n",
       "   u'lon': 109.0,\n",
       "   u'name': u'Shaanxi',\n",
       "   u'population': 37620000,\n",
       "   u'score': 1,\n",
       "   u'stateCode': u'26',\n",
       "   u'stateGeoNameId': u'1796480'},\n",
       "  {u'countryCode': u'KR',\n",
       "   u'countryGeoNameId': u'1835841',\n",
       "   u'featureClass': u'A',\n",
       "   u'featureCode': u'ADM1',\n",
       "   u'id': 1833742,\n",
       "   u'lat': 35.56667,\n",
       "   u'lon': 129.26667,\n",
       "   u'name': u'Ulsan',\n",
       "   u'population': 1163690,\n",
       "   u'score': 1,\n",
       "   u'stateCode': u'21',\n",
       "   u'stateGeoNameId': u'1833742'}]}"
      ]
     },
     "execution_count": 61,
     "metadata": {},
     "output_type": "execute_result"
    }
   ],
   "source": [
    "t['results']['places']['focus']"
   ]
  }
 ],
 "metadata": {
  "kernelspec": {
   "display_name": "Python 2",
   "language": "python",
   "name": "python2"
  },
  "language_info": {
   "codemirror_mode": {
    "name": "ipython",
    "version": 2
   },
   "file_extension": ".py",
   "mimetype": "text/x-python",
   "name": "python",
   "nbconvert_exporter": "python",
   "pygments_lexer": "ipython2",
   "version": "2.7.11"
  }
 },
 "nbformat": 4,
 "nbformat_minor": 0
}
