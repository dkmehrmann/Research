{
 "cells": [
  {
   "cell_type": "code",
   "execution_count": 34,
   "metadata": {
    "collapsed": true
   },
   "outputs": [],
   "source": [
    "%matplotlib inline"
   ]
  },
  {
   "cell_type": "code",
   "execution_count": 35,
   "metadata": {
    "collapsed": true
   },
   "outputs": [],
   "source": [
    "from pymongo import MongoClient\n",
    "from random import randint\n",
    "import random\n",
    "import pandas as pd\n",
    "import numpy as np\n",
    "\n",
    "random.seed(42)\n",
    "\n"
   ]
  },
  {
   "cell_type": "code",
   "execution_count": 36,
   "metadata": {
    "collapsed": true
   },
   "outputs": [],
   "source": [
    "client = MongoClient()\n",
    "db = client['event_scrape']\n",
    "collection = db['stories']"
   ]
  },
  {
   "cell_type": "code",
   "execution_count": 37,
   "metadata": {
    "collapsed": false
   },
   "outputs": [],
   "source": [
    "def get_sample_story():\n",
    "    recordCount = collection.count()\n",
    "    rnd_number = randint(0,recordCount)\n",
    "    sample_story = collection.find().limit(-1).skip(rnd_number).next()\n",
    "    return sample_story['content']"
   ]
  },
  {
   "cell_type": "code",
   "execution_count": 41,
   "metadata": {
    "collapsed": false
   },
   "outputs": [],
   "source": [
    "def ngrams(input, n):\n",
    "    input = input.split(' ')\n",
    "    output = []\n",
    "    for i in range(len(input)-n+1):\n",
    "        output.append(input[i:i+n])\n",
    "    return output"
   ]
  },
  {
   "cell_type": "code",
   "execution_count": 100,
   "metadata": {
    "collapsed": false
   },
   "outputs": [],
   "source": [
    "def find_eulerian_tour(graph):\n",
    "    tour = []\n",
    "\n",
    "    current_vertex = graph[0][0]\n",
    "    tour.append(current_vertex)\n",
    "\n",
    "    while len(graph) > 0:\n",
    "        #print(graph, current_vertex)\n",
    "        for edge in graph:\n",
    "            if current_vertex in edge:\n",
    "                if edge[0] == current_vertex:\n",
    "                    current_vertex = edge[1]\n",
    "                #else:\n",
    "                    #current_vertex = edge[0]\n",
    "\n",
    "                    graph.remove(edge)\n",
    "                    tour.append(current_vertex)\n",
    "                    break\n",
    "        else:\n",
    "            return False\n",
    "    return tour"
   ]
  },
  {
   "cell_type": "code",
   "execution_count": 59,
   "metadata": {
    "collapsed": true
   },
   "outputs": [],
   "source": [
    "def check_equal(guess,true):\n",
    "    guess = \" \".join(tour)\n",
    "    true = sample_story\n",
    "\n",
    "    return [tuple(l) for l in ngrams(guess,2)] == [tuple(l) for l in ngrams(true,2)]"
   ]
  },
  {
   "cell_type": "code",
   "execution_count": 78,
   "metadata": {
    "collapsed": false
   },
   "outputs": [
    {
     "name": "stdout",
     "output_type": "stream",
     "text": [
      "To prevent slipping on ice, put rubber bands around shoes.\n"
     ]
    }
   ],
   "source": [
    "sample_story = get_sample_story()\n",
    "#sample_story='the quick brown fox jumped over the lazy dog'\n",
    "graph = [tuple(l) for l in ngrams(sample_story,2)]\n",
    "\n",
    "for i in range(N_ITER):\n",
    "\n",
    "### Shuffle all but first bigram\n",
    "\n",
    "    rest = graph[1:]\n",
    "    random.shuffle(rest)\n",
    "    shuffled_graph = [graph[0]] + rest\n",
    "\n",
    "    tour = find_eulerian_tour(shuffled_graph)\n",
    "    if tour:\n",
    "        print \" \".join(tour)\n",
    "        break"
   ]
  },
  {
   "cell_type": "code",
   "execution_count": 79,
   "metadata": {
    "collapsed": false
   },
   "outputs": [
    {
     "data": {
      "text/plain": [
       "u'To prevent slipping on ice, put rubber bands around shoes.'"
      ]
     },
     "execution_count": 79,
     "metadata": {},
     "output_type": "execute_result"
    }
   ],
   "source": [
    "sample_story"
   ]
  },
  {
   "cell_type": "code",
   "execution_count": 80,
   "metadata": {
    "collapsed": false
   },
   "outputs": [
    {
     "data": {
      "text/plain": [
       "True"
      ]
     },
     "execution_count": 80,
     "metadata": {},
     "output_type": "execute_result"
    }
   ],
   "source": [
    "check_equal(\" \".join(tour), sample_story)"
   ]
  },
  {
   "cell_type": "code",
   "execution_count": 101,
   "metadata": {
    "collapsed": true
   },
   "outputs": [],
   "source": [
    "N_ITER = 1000\n",
    "N_EXPERIMENTS = 100"
   ]
  },
  {
   "cell_type": "code",
   "execution_count": 102,
   "metadata": {
    "collapsed": false
   },
   "outputs": [
    {
     "name": "stdout",
     "output_type": "stream",
     "text": [
      "Solution! found in 2 iterations.\n",
      "\n",
      "© 2016 Copyright France 24 – All rights reserved   France 24 is not responsible for the content of external websites  \n",
      "\n",
      "\n",
      "Solution! found in 2 iterations.\n",
      "\n",
      "Take the trial to enjoy one month access for $1.00 Sign up now and access the full breadth of The Daily Star content in minutes.\n",
      "\n",
      "\n",
      "Solution! found in 1 iterations.\n",
      "\n",
      "The resource you are looking for might have been removed, had its name changed, or is temporarily unavailable.\n",
      "\n",
      "\n",
      "Solution! found in 1 iterations.\n",
      "\n",
      "Follow / Like us at\n",
      "\n",
      "\n",
      "Solution! found in 7 iterations.\n",
      "\n",
      "Take the trial to enjoy one month access for $1.00 Sign up now and access the full breadth of The Daily Star content in minutes.\n",
      "\n",
      "\n",
      "Solution! found in 7 iterations.\n",
      "\n",
      "We have been experiencing some problems with subscriber log-ins and apologise for the inconvenience caused. Until we resolve the issues, subscribers need not log in to access ST Digital articles. But a log-in is still required for our PDFs.\n",
      "\n",
      "\n",
      "Solution! found in 22 iterations.\n",
      "\n",
      "© 2016 Copyright France 24 – All rights reserved   France 24 is not responsible for the content of external websites  \n",
      "\n",
      "\n",
      "Solution! found in 1 iterations.\n",
      "\n",
      "You have viewed your allowance of free articles. If you wish to view more, click the button below.\n",
      "\n",
      "\n",
      "Solution! found in 1 iterations.\n",
      "\n",
      "Feel free to reprint, repost or republish this material. (Read Bulatlat's syndication policy.)\n",
      "\n",
      "\n",
      "Solution! found in 1 iterations.\n",
      "\n",
      "© 2016 Copyright France 24 – All rights reserved   France 24 is not responsible for the content of external websites  \n",
      "\n",
      "\n",
      "Solution! found in 1 iterations.\n",
      "\n",
      "US has no plans yet to attack IS forces in Libya: Pentagon\n",
      "\n",
      "\n"
     ]
    }
   ],
   "source": [
    "np.random.seed(42)\n",
    "for j in range(N_EXPERIMENTS):\n",
    "    sample_story = get_sample_story()\n",
    "    #sample_story='the quick brown fox jumped over the lazy dog'\n",
    "    graph = [tuple(l) for l in ngrams(sample_story,2)]\n",
    "\n",
    "    for i in range(N_ITER):\n",
    "\n",
    "    ### Shuffle all but first bigram\n",
    "\n",
    "        rest = graph[1:]\n",
    "        random.shuffle(rest)\n",
    "        shuffled_graph = [graph[0]] + rest\n",
    "\n",
    "        tour = find_eulerian_tour(shuffled_graph)\n",
    "        if tour:\n",
    "            if check_equal(\" \".join(tour), sample_story):\n",
    "                print 'Solution! found in {0} iterations.\\n'.format(i+1)\n",
    "                print \" \".join(tour)\n",
    "                print '\\n'\n",
    "                break"
   ]
  },
  {
   "cell_type": "code",
   "execution_count": null,
   "metadata": {
    "collapsed": true
   },
   "outputs": [],
   "source": []
  },
  {
   "cell_type": "code",
   "execution_count": null,
   "metadata": {
    "collapsed": true
   },
   "outputs": [],
   "source": [
    "stack = []\n",
    "circuit = []\n"
   ]
  }
 ],
 "metadata": {
  "kernelspec": {
   "display_name": "Python 2",
   "language": "python",
   "name": "python2"
  },
  "language_info": {
   "codemirror_mode": {
    "name": "ipython",
    "version": 2
   },
   "file_extension": ".py",
   "mimetype": "text/x-python",
   "name": "python",
   "nbconvert_exporter": "python",
   "pygments_lexer": "ipython2",
   "version": "2.7.11"
  }
 },
 "nbformat": 4,
 "nbformat_minor": 0
}
